{
 "cells": [
  {
   "cell_type": "markdown",
   "metadata": {},
   "source": [
    "# Выбор локации для скважины"
   ]
  },
  {
   "cell_type": "markdown",
   "metadata": {},
   "source": [
    "Допустим, вы работаете в добывающей компании «ГлавРосГосНефть».  \n",
    "Нужно решить, где бурить новую скважину.  \n",
    "\n",
    "Вам предоставлены пробы нефти в трёх регионах:  \n",
    "в каждом 10 000 месторождений, где измерили качество нефти и объём её запасов.  \n",
    "Постройте модель машинного обучения,  \n",
    "которая поможет определить регион, где добыча принесёт наибольшую прибыль.  \n",
    "\n",
    "Проанализируйте возможную прибыль и риски техникой *Bootstrap.*\n",
    "\n",
    "Шаги для выбора локации:\n",
    "\n",
    "- В избранном регионе ищут месторождения, для каждого определяют значения признаков;  \n",
    "- Строят модель и оценивают объём запасов;  \n",
    "  Для обучения модели подходит только линейная регрессия (остальные — недостаточно предсказуемые).  \n",
    "- Выбирают месторождения с самым высокими оценками значений.  \n",
    "  Количество месторождений зависит от бюджета компании и стоимости разработки одной скважины;  \n",
    "- Прибыль равна суммарной прибыли отобранных месторождений.  "
   ]
  },
  {
   "cell_type": "markdown",
   "metadata": {},
   "source": [
    "## Загрузка и подготовка данных"
   ]
  },
  {
   "cell_type": "code",
   "execution_count": 1,
   "metadata": {},
   "outputs": [],
   "source": [
    "import numpy as np\n",
    "import pandas as pd\n",
    "import seaborn as sns\n",
    "import matplotlib.pyplot as plt\n",
    "from sklearn.metrics import mean_squared_error\n",
    "from sklearn.preprocessing import StandardScaler\n",
    "from sklearn.linear_model import LinearRegression\n",
    "from sklearn.model_selection import train_test_split"
   ]
  },
  {
   "cell_type": "code",
   "execution_count": 2,
   "metadata": {},
   "outputs": [],
   "source": [
    "geo_data_1 = pd.read_csv('geo_data_0.csv')\n",
    "geo_data_2 = pd.read_csv('geo_data_1.csv')\n",
    "geo_data_3 = pd.read_csv('geo_data_2.csv')"
   ]
  },
  {
   "cell_type": "markdown",
   "metadata": {},
   "source": [
    "### Общая информация\n",
    "Обозначения столбцов:\n",
    "* `id` — уникальный идентификатор скважины;\n",
    "* `f0`, `f1`, `f2` — три признака точек (неважно, что они означают, но сами признаки значимы);\n",
    "* `product` — объём запасов в скважине (тыс. баррелей)."
   ]
  },
  {
   "cell_type": "code",
   "execution_count": 3,
   "metadata": {},
   "outputs": [],
   "source": [
    "def df_info(df):\n",
    "    name =[x for x in globals() if globals()[x] is df][0]\n",
    "    dubl = df.duplicated().sum()\n",
    "    zero_oil = df.query('product == 0')['id'].count()\n",
    "    uniq_product = len(df['product'].unique())\n",
    "    display(f\">>> {name} <<<\")\n",
    "    display(df.head())\n",
    "    df.info()\n",
    "    if dubl:\n",
    "        print(f'\\nКоличество дубликатов: {dubl}')\n",
    "    else:\n",
    "        print(f'\\nДубликатов нет')\n",
    "    print(f'Количество скважин с нулевым объёмом запасов: {zero_oil}')\n",
    "    print(f'Количество уникальных значений объёма запасов: {uniq_product}')\n",
    "    display(df.describe())\n",
    "    print('\\n——————————————————————————————————————————————————————————————————')"
   ]
  },
  {
   "cell_type": "code",
   "execution_count": 4,
   "metadata": {
    "scrolled": false
   },
   "outputs": [
    {
     "data": {
      "text/plain": [
       "'>>> geo_data_1 <<<'"
      ]
     },
     "metadata": {},
     "output_type": "display_data"
    },
    {
     "data": {
      "text/html": [
       "<div>\n",
       "<style scoped>\n",
       "    .dataframe tbody tr th:only-of-type {\n",
       "        vertical-align: middle;\n",
       "    }\n",
       "\n",
       "    .dataframe tbody tr th {\n",
       "        vertical-align: top;\n",
       "    }\n",
       "\n",
       "    .dataframe thead th {\n",
       "        text-align: right;\n",
       "    }\n",
       "</style>\n",
       "<table border=\"1\" class=\"dataframe\">\n",
       "  <thead>\n",
       "    <tr style=\"text-align: right;\">\n",
       "      <th></th>\n",
       "      <th>id</th>\n",
       "      <th>f0</th>\n",
       "      <th>f1</th>\n",
       "      <th>f2</th>\n",
       "      <th>product</th>\n",
       "    </tr>\n",
       "  </thead>\n",
       "  <tbody>\n",
       "    <tr>\n",
       "      <th>0</th>\n",
       "      <td>txEyH</td>\n",
       "      <td>0.705745</td>\n",
       "      <td>-0.497823</td>\n",
       "      <td>1.221170</td>\n",
       "      <td>105.280062</td>\n",
       "    </tr>\n",
       "    <tr>\n",
       "      <th>1</th>\n",
       "      <td>2acmU</td>\n",
       "      <td>1.334711</td>\n",
       "      <td>-0.340164</td>\n",
       "      <td>4.365080</td>\n",
       "      <td>73.037750</td>\n",
       "    </tr>\n",
       "    <tr>\n",
       "      <th>2</th>\n",
       "      <td>409Wp</td>\n",
       "      <td>1.022732</td>\n",
       "      <td>0.151990</td>\n",
       "      <td>1.419926</td>\n",
       "      <td>85.265647</td>\n",
       "    </tr>\n",
       "    <tr>\n",
       "      <th>3</th>\n",
       "      <td>iJLyR</td>\n",
       "      <td>-0.032172</td>\n",
       "      <td>0.139033</td>\n",
       "      <td>2.978566</td>\n",
       "      <td>168.620776</td>\n",
       "    </tr>\n",
       "    <tr>\n",
       "      <th>4</th>\n",
       "      <td>Xdl7t</td>\n",
       "      <td>1.988431</td>\n",
       "      <td>0.155413</td>\n",
       "      <td>4.751769</td>\n",
       "      <td>154.036647</td>\n",
       "    </tr>\n",
       "  </tbody>\n",
       "</table>\n",
       "</div>"
      ],
      "text/plain": [
       "      id        f0        f1        f2     product\n",
       "0  txEyH  0.705745 -0.497823  1.221170  105.280062\n",
       "1  2acmU  1.334711 -0.340164  4.365080   73.037750\n",
       "2  409Wp  1.022732  0.151990  1.419926   85.265647\n",
       "3  iJLyR -0.032172  0.139033  2.978566  168.620776\n",
       "4  Xdl7t  1.988431  0.155413  4.751769  154.036647"
      ]
     },
     "metadata": {},
     "output_type": "display_data"
    },
    {
     "name": "stdout",
     "output_type": "stream",
     "text": [
      "<class 'pandas.core.frame.DataFrame'>\n",
      "RangeIndex: 100000 entries, 0 to 99999\n",
      "Data columns (total 5 columns):\n",
      " #   Column   Non-Null Count   Dtype  \n",
      "---  ------   --------------   -----  \n",
      " 0   id       100000 non-null  object \n",
      " 1   f0       100000 non-null  float64\n",
      " 2   f1       100000 non-null  float64\n",
      " 3   f2       100000 non-null  float64\n",
      " 4   product  100000 non-null  float64\n",
      "dtypes: float64(4), object(1)\n",
      "memory usage: 3.8+ MB\n",
      "\n",
      "Дубликатов нет\n",
      "Количество скважин с нулевым объёмом запасов: 1\n",
      "Количество уникальных значений объёма запасов: 100000\n"
     ]
    },
    {
     "data": {
      "text/html": [
       "<div>\n",
       "<style scoped>\n",
       "    .dataframe tbody tr th:only-of-type {\n",
       "        vertical-align: middle;\n",
       "    }\n",
       "\n",
       "    .dataframe tbody tr th {\n",
       "        vertical-align: top;\n",
       "    }\n",
       "\n",
       "    .dataframe thead th {\n",
       "        text-align: right;\n",
       "    }\n",
       "</style>\n",
       "<table border=\"1\" class=\"dataframe\">\n",
       "  <thead>\n",
       "    <tr style=\"text-align: right;\">\n",
       "      <th></th>\n",
       "      <th>f0</th>\n",
       "      <th>f1</th>\n",
       "      <th>f2</th>\n",
       "      <th>product</th>\n",
       "    </tr>\n",
       "  </thead>\n",
       "  <tbody>\n",
       "    <tr>\n",
       "      <th>count</th>\n",
       "      <td>100000.000000</td>\n",
       "      <td>100000.000000</td>\n",
       "      <td>100000.000000</td>\n",
       "      <td>100000.000000</td>\n",
       "    </tr>\n",
       "    <tr>\n",
       "      <th>mean</th>\n",
       "      <td>0.500419</td>\n",
       "      <td>0.250143</td>\n",
       "      <td>2.502647</td>\n",
       "      <td>92.500000</td>\n",
       "    </tr>\n",
       "    <tr>\n",
       "      <th>std</th>\n",
       "      <td>0.871832</td>\n",
       "      <td>0.504433</td>\n",
       "      <td>3.248248</td>\n",
       "      <td>44.288691</td>\n",
       "    </tr>\n",
       "    <tr>\n",
       "      <th>min</th>\n",
       "      <td>-1.408605</td>\n",
       "      <td>-0.848218</td>\n",
       "      <td>-12.088328</td>\n",
       "      <td>0.000000</td>\n",
       "    </tr>\n",
       "    <tr>\n",
       "      <th>25%</th>\n",
       "      <td>-0.072580</td>\n",
       "      <td>-0.200881</td>\n",
       "      <td>0.287748</td>\n",
       "      <td>56.497507</td>\n",
       "    </tr>\n",
       "    <tr>\n",
       "      <th>50%</th>\n",
       "      <td>0.502360</td>\n",
       "      <td>0.250252</td>\n",
       "      <td>2.515969</td>\n",
       "      <td>91.849972</td>\n",
       "    </tr>\n",
       "    <tr>\n",
       "      <th>75%</th>\n",
       "      <td>1.073581</td>\n",
       "      <td>0.700646</td>\n",
       "      <td>4.715088</td>\n",
       "      <td>128.564089</td>\n",
       "    </tr>\n",
       "    <tr>\n",
       "      <th>max</th>\n",
       "      <td>2.362331</td>\n",
       "      <td>1.343769</td>\n",
       "      <td>16.003790</td>\n",
       "      <td>185.364347</td>\n",
       "    </tr>\n",
       "  </tbody>\n",
       "</table>\n",
       "</div>"
      ],
      "text/plain": [
       "                  f0             f1             f2        product\n",
       "count  100000.000000  100000.000000  100000.000000  100000.000000\n",
       "mean        0.500419       0.250143       2.502647      92.500000\n",
       "std         0.871832       0.504433       3.248248      44.288691\n",
       "min        -1.408605      -0.848218     -12.088328       0.000000\n",
       "25%        -0.072580      -0.200881       0.287748      56.497507\n",
       "50%         0.502360       0.250252       2.515969      91.849972\n",
       "75%         1.073581       0.700646       4.715088     128.564089\n",
       "max         2.362331       1.343769      16.003790     185.364347"
      ]
     },
     "metadata": {},
     "output_type": "display_data"
    },
    {
     "name": "stdout",
     "output_type": "stream",
     "text": [
      "\n",
      "——————————————————————————————————————————————————————————————————\n"
     ]
    },
    {
     "data": {
      "text/plain": [
       "'>>> geo_data_2 <<<'"
      ]
     },
     "metadata": {},
     "output_type": "display_data"
    },
    {
     "data": {
      "text/html": [
       "<div>\n",
       "<style scoped>\n",
       "    .dataframe tbody tr th:only-of-type {\n",
       "        vertical-align: middle;\n",
       "    }\n",
       "\n",
       "    .dataframe tbody tr th {\n",
       "        vertical-align: top;\n",
       "    }\n",
       "\n",
       "    .dataframe thead th {\n",
       "        text-align: right;\n",
       "    }\n",
       "</style>\n",
       "<table border=\"1\" class=\"dataframe\">\n",
       "  <thead>\n",
       "    <tr style=\"text-align: right;\">\n",
       "      <th></th>\n",
       "      <th>id</th>\n",
       "      <th>f0</th>\n",
       "      <th>f1</th>\n",
       "      <th>f2</th>\n",
       "      <th>product</th>\n",
       "    </tr>\n",
       "  </thead>\n",
       "  <tbody>\n",
       "    <tr>\n",
       "      <th>0</th>\n",
       "      <td>kBEdx</td>\n",
       "      <td>-15.001348</td>\n",
       "      <td>-8.276000</td>\n",
       "      <td>-0.005876</td>\n",
       "      <td>3.179103</td>\n",
       "    </tr>\n",
       "    <tr>\n",
       "      <th>1</th>\n",
       "      <td>62mP7</td>\n",
       "      <td>14.272088</td>\n",
       "      <td>-3.475083</td>\n",
       "      <td>0.999183</td>\n",
       "      <td>26.953261</td>\n",
       "    </tr>\n",
       "    <tr>\n",
       "      <th>2</th>\n",
       "      <td>vyE1P</td>\n",
       "      <td>6.263187</td>\n",
       "      <td>-5.948386</td>\n",
       "      <td>5.001160</td>\n",
       "      <td>134.766305</td>\n",
       "    </tr>\n",
       "    <tr>\n",
       "      <th>3</th>\n",
       "      <td>KcrkZ</td>\n",
       "      <td>-13.081196</td>\n",
       "      <td>-11.506057</td>\n",
       "      <td>4.999415</td>\n",
       "      <td>137.945408</td>\n",
       "    </tr>\n",
       "    <tr>\n",
       "      <th>4</th>\n",
       "      <td>AHL4O</td>\n",
       "      <td>12.702195</td>\n",
       "      <td>-8.147433</td>\n",
       "      <td>5.004363</td>\n",
       "      <td>134.766305</td>\n",
       "    </tr>\n",
       "  </tbody>\n",
       "</table>\n",
       "</div>"
      ],
      "text/plain": [
       "      id         f0         f1        f2     product\n",
       "0  kBEdx -15.001348  -8.276000 -0.005876    3.179103\n",
       "1  62mP7  14.272088  -3.475083  0.999183   26.953261\n",
       "2  vyE1P   6.263187  -5.948386  5.001160  134.766305\n",
       "3  KcrkZ -13.081196 -11.506057  4.999415  137.945408\n",
       "4  AHL4O  12.702195  -8.147433  5.004363  134.766305"
      ]
     },
     "metadata": {},
     "output_type": "display_data"
    },
    {
     "name": "stdout",
     "output_type": "stream",
     "text": [
      "<class 'pandas.core.frame.DataFrame'>\n",
      "RangeIndex: 100000 entries, 0 to 99999\n",
      "Data columns (total 5 columns):\n",
      " #   Column   Non-Null Count   Dtype  \n",
      "---  ------   --------------   -----  \n",
      " 0   id       100000 non-null  object \n",
      " 1   f0       100000 non-null  float64\n",
      " 2   f1       100000 non-null  float64\n",
      " 3   f2       100000 non-null  float64\n",
      " 4   product  100000 non-null  float64\n",
      "dtypes: float64(4), object(1)\n",
      "memory usage: 3.8+ MB\n",
      "\n",
      "Дубликатов нет\n",
      "Количество скважин с нулевым объёмом запасов: 8235\n",
      "Количество уникальных значений объёма запасов: 12\n"
     ]
    },
    {
     "data": {
      "text/html": [
       "<div>\n",
       "<style scoped>\n",
       "    .dataframe tbody tr th:only-of-type {\n",
       "        vertical-align: middle;\n",
       "    }\n",
       "\n",
       "    .dataframe tbody tr th {\n",
       "        vertical-align: top;\n",
       "    }\n",
       "\n",
       "    .dataframe thead th {\n",
       "        text-align: right;\n",
       "    }\n",
       "</style>\n",
       "<table border=\"1\" class=\"dataframe\">\n",
       "  <thead>\n",
       "    <tr style=\"text-align: right;\">\n",
       "      <th></th>\n",
       "      <th>f0</th>\n",
       "      <th>f1</th>\n",
       "      <th>f2</th>\n",
       "      <th>product</th>\n",
       "    </tr>\n",
       "  </thead>\n",
       "  <tbody>\n",
       "    <tr>\n",
       "      <th>count</th>\n",
       "      <td>100000.000000</td>\n",
       "      <td>100000.000000</td>\n",
       "      <td>100000.000000</td>\n",
       "      <td>100000.000000</td>\n",
       "    </tr>\n",
       "    <tr>\n",
       "      <th>mean</th>\n",
       "      <td>1.141296</td>\n",
       "      <td>-4.796579</td>\n",
       "      <td>2.494541</td>\n",
       "      <td>68.825000</td>\n",
       "    </tr>\n",
       "    <tr>\n",
       "      <th>std</th>\n",
       "      <td>8.965932</td>\n",
       "      <td>5.119872</td>\n",
       "      <td>1.703572</td>\n",
       "      <td>45.944423</td>\n",
       "    </tr>\n",
       "    <tr>\n",
       "      <th>min</th>\n",
       "      <td>-31.609576</td>\n",
       "      <td>-26.358598</td>\n",
       "      <td>-0.018144</td>\n",
       "      <td>0.000000</td>\n",
       "    </tr>\n",
       "    <tr>\n",
       "      <th>25%</th>\n",
       "      <td>-6.298551</td>\n",
       "      <td>-8.267985</td>\n",
       "      <td>1.000021</td>\n",
       "      <td>26.953261</td>\n",
       "    </tr>\n",
       "    <tr>\n",
       "      <th>50%</th>\n",
       "      <td>1.153055</td>\n",
       "      <td>-4.813172</td>\n",
       "      <td>2.011479</td>\n",
       "      <td>57.085625</td>\n",
       "    </tr>\n",
       "    <tr>\n",
       "      <th>75%</th>\n",
       "      <td>8.621015</td>\n",
       "      <td>-1.332816</td>\n",
       "      <td>3.999904</td>\n",
       "      <td>107.813044</td>\n",
       "    </tr>\n",
       "    <tr>\n",
       "      <th>max</th>\n",
       "      <td>29.421755</td>\n",
       "      <td>18.734063</td>\n",
       "      <td>5.019721</td>\n",
       "      <td>137.945408</td>\n",
       "    </tr>\n",
       "  </tbody>\n",
       "</table>\n",
       "</div>"
      ],
      "text/plain": [
       "                  f0             f1             f2        product\n",
       "count  100000.000000  100000.000000  100000.000000  100000.000000\n",
       "mean        1.141296      -4.796579       2.494541      68.825000\n",
       "std         8.965932       5.119872       1.703572      45.944423\n",
       "min       -31.609576     -26.358598      -0.018144       0.000000\n",
       "25%        -6.298551      -8.267985       1.000021      26.953261\n",
       "50%         1.153055      -4.813172       2.011479      57.085625\n",
       "75%         8.621015      -1.332816       3.999904     107.813044\n",
       "max        29.421755      18.734063       5.019721     137.945408"
      ]
     },
     "metadata": {},
     "output_type": "display_data"
    },
    {
     "name": "stdout",
     "output_type": "stream",
     "text": [
      "\n",
      "——————————————————————————————————————————————————————————————————\n"
     ]
    },
    {
     "data": {
      "text/plain": [
       "'>>> geo_data_3 <<<'"
      ]
     },
     "metadata": {},
     "output_type": "display_data"
    },
    {
     "data": {
      "text/html": [
       "<div>\n",
       "<style scoped>\n",
       "    .dataframe tbody tr th:only-of-type {\n",
       "        vertical-align: middle;\n",
       "    }\n",
       "\n",
       "    .dataframe tbody tr th {\n",
       "        vertical-align: top;\n",
       "    }\n",
       "\n",
       "    .dataframe thead th {\n",
       "        text-align: right;\n",
       "    }\n",
       "</style>\n",
       "<table border=\"1\" class=\"dataframe\">\n",
       "  <thead>\n",
       "    <tr style=\"text-align: right;\">\n",
       "      <th></th>\n",
       "      <th>id</th>\n",
       "      <th>f0</th>\n",
       "      <th>f1</th>\n",
       "      <th>f2</th>\n",
       "      <th>product</th>\n",
       "    </tr>\n",
       "  </thead>\n",
       "  <tbody>\n",
       "    <tr>\n",
       "      <th>0</th>\n",
       "      <td>fwXo0</td>\n",
       "      <td>-1.146987</td>\n",
       "      <td>0.963328</td>\n",
       "      <td>-0.828965</td>\n",
       "      <td>27.758673</td>\n",
       "    </tr>\n",
       "    <tr>\n",
       "      <th>1</th>\n",
       "      <td>WJtFt</td>\n",
       "      <td>0.262778</td>\n",
       "      <td>0.269839</td>\n",
       "      <td>-2.530187</td>\n",
       "      <td>56.069697</td>\n",
       "    </tr>\n",
       "    <tr>\n",
       "      <th>2</th>\n",
       "      <td>ovLUW</td>\n",
       "      <td>0.194587</td>\n",
       "      <td>0.289035</td>\n",
       "      <td>-5.586433</td>\n",
       "      <td>62.871910</td>\n",
       "    </tr>\n",
       "    <tr>\n",
       "      <th>3</th>\n",
       "      <td>q6cA6</td>\n",
       "      <td>2.236060</td>\n",
       "      <td>-0.553760</td>\n",
       "      <td>0.930038</td>\n",
       "      <td>114.572842</td>\n",
       "    </tr>\n",
       "    <tr>\n",
       "      <th>4</th>\n",
       "      <td>WPMUX</td>\n",
       "      <td>-0.515993</td>\n",
       "      <td>1.716266</td>\n",
       "      <td>5.899011</td>\n",
       "      <td>149.600746</td>\n",
       "    </tr>\n",
       "  </tbody>\n",
       "</table>\n",
       "</div>"
      ],
      "text/plain": [
       "      id        f0        f1        f2     product\n",
       "0  fwXo0 -1.146987  0.963328 -0.828965   27.758673\n",
       "1  WJtFt  0.262778  0.269839 -2.530187   56.069697\n",
       "2  ovLUW  0.194587  0.289035 -5.586433   62.871910\n",
       "3  q6cA6  2.236060 -0.553760  0.930038  114.572842\n",
       "4  WPMUX -0.515993  1.716266  5.899011  149.600746"
      ]
     },
     "metadata": {},
     "output_type": "display_data"
    },
    {
     "name": "stdout",
     "output_type": "stream",
     "text": [
      "<class 'pandas.core.frame.DataFrame'>\n",
      "RangeIndex: 100000 entries, 0 to 99999\n",
      "Data columns (total 5 columns):\n",
      " #   Column   Non-Null Count   Dtype  \n",
      "---  ------   --------------   -----  \n",
      " 0   id       100000 non-null  object \n",
      " 1   f0       100000 non-null  float64\n",
      " 2   f1       100000 non-null  float64\n",
      " 3   f2       100000 non-null  float64\n",
      " 4   product  100000 non-null  float64\n",
      "dtypes: float64(4), object(1)\n",
      "memory usage: 3.8+ MB\n",
      "\n",
      "Дубликатов нет\n",
      "Количество скважин с нулевым объёмом запасов: 1\n",
      "Количество уникальных значений объёма запасов: 100000\n"
     ]
    },
    {
     "data": {
      "text/html": [
       "<div>\n",
       "<style scoped>\n",
       "    .dataframe tbody tr th:only-of-type {\n",
       "        vertical-align: middle;\n",
       "    }\n",
       "\n",
       "    .dataframe tbody tr th {\n",
       "        vertical-align: top;\n",
       "    }\n",
       "\n",
       "    .dataframe thead th {\n",
       "        text-align: right;\n",
       "    }\n",
       "</style>\n",
       "<table border=\"1\" class=\"dataframe\">\n",
       "  <thead>\n",
       "    <tr style=\"text-align: right;\">\n",
       "      <th></th>\n",
       "      <th>f0</th>\n",
       "      <th>f1</th>\n",
       "      <th>f2</th>\n",
       "      <th>product</th>\n",
       "    </tr>\n",
       "  </thead>\n",
       "  <tbody>\n",
       "    <tr>\n",
       "      <th>count</th>\n",
       "      <td>100000.000000</td>\n",
       "      <td>100000.000000</td>\n",
       "      <td>100000.000000</td>\n",
       "      <td>100000.000000</td>\n",
       "    </tr>\n",
       "    <tr>\n",
       "      <th>mean</th>\n",
       "      <td>0.002023</td>\n",
       "      <td>-0.002081</td>\n",
       "      <td>2.495128</td>\n",
       "      <td>95.000000</td>\n",
       "    </tr>\n",
       "    <tr>\n",
       "      <th>std</th>\n",
       "      <td>1.732045</td>\n",
       "      <td>1.730417</td>\n",
       "      <td>3.473445</td>\n",
       "      <td>44.749921</td>\n",
       "    </tr>\n",
       "    <tr>\n",
       "      <th>min</th>\n",
       "      <td>-8.760004</td>\n",
       "      <td>-7.084020</td>\n",
       "      <td>-11.970335</td>\n",
       "      <td>0.000000</td>\n",
       "    </tr>\n",
       "    <tr>\n",
       "      <th>25%</th>\n",
       "      <td>-1.162288</td>\n",
       "      <td>-1.174820</td>\n",
       "      <td>0.130359</td>\n",
       "      <td>59.450441</td>\n",
       "    </tr>\n",
       "    <tr>\n",
       "      <th>50%</th>\n",
       "      <td>0.009424</td>\n",
       "      <td>-0.009482</td>\n",
       "      <td>2.484236</td>\n",
       "      <td>94.925613</td>\n",
       "    </tr>\n",
       "    <tr>\n",
       "      <th>75%</th>\n",
       "      <td>1.158535</td>\n",
       "      <td>1.163678</td>\n",
       "      <td>4.858794</td>\n",
       "      <td>130.595027</td>\n",
       "    </tr>\n",
       "    <tr>\n",
       "      <th>max</th>\n",
       "      <td>7.238262</td>\n",
       "      <td>7.844801</td>\n",
       "      <td>16.739402</td>\n",
       "      <td>190.029838</td>\n",
       "    </tr>\n",
       "  </tbody>\n",
       "</table>\n",
       "</div>"
      ],
      "text/plain": [
       "                  f0             f1             f2        product\n",
       "count  100000.000000  100000.000000  100000.000000  100000.000000\n",
       "mean        0.002023      -0.002081       2.495128      95.000000\n",
       "std         1.732045       1.730417       3.473445      44.749921\n",
       "min        -8.760004      -7.084020     -11.970335       0.000000\n",
       "25%        -1.162288      -1.174820       0.130359      59.450441\n",
       "50%         0.009424      -0.009482       2.484236      94.925613\n",
       "75%         1.158535       1.163678       4.858794     130.595027\n",
       "max         7.238262       7.844801      16.739402     190.029838"
      ]
     },
     "metadata": {},
     "output_type": "display_data"
    },
    {
     "name": "stdout",
     "output_type": "stream",
     "text": [
      "\n",
      "——————————————————————————————————————————————————————————————————\n"
     ]
    }
   ],
   "source": [
    "df_info(geo_data_1)\n",
    "df_info(geo_data_2)\n",
    "df_info(geo_data_3)"
   ]
  },
  {
   "cell_type": "markdown",
   "metadata": {},
   "source": [
    "### Столбец `id`\n",
    "Столбцы id не содержат пользы для обучения моделей, можно удалить."
   ]
  },
  {
   "cell_type": "code",
   "execution_count": 5,
   "metadata": {},
   "outputs": [],
   "source": [
    "geo_data_1 = geo_data_1.drop(['id'], axis=1)\n",
    "geo_data_2 = geo_data_2.drop(['id'], axis=1)\n",
    "geo_data_3 = geo_data_3.drop(['id'], axis=1)"
   ]
  },
  {
   "cell_type": "markdown",
   "metadata": {},
   "source": [
    "### Распределение по объёму запасов"
   ]
  },
  {
   "cell_type": "code",
   "execution_count": 6,
   "metadata": {},
   "outputs": [
    {
     "data": {
      "image/png": "[encoded data removed]",
      "text/plain": [
       "<Figure size 1080x360 with 1 Axes>"
      ]
     },
     "metadata": {
      "needs_background": "light"
     },
     "output_type": "display_data"
    }
   ],
   "source": [
    "import warnings\n",
    "warnings.simplefilter(action='ignore', category=FutureWarning)\n",
    "\n",
    "plt.figure(figsize=(15, 5))\n",
    "sns.distplot(geo_data_1['product'], kde=False, color='#2274A5')\n",
    "sns.distplot(geo_data_2['product'], kde=False, color='#E83F6F')\n",
    "sns.distplot(geo_data_3['product'], kde=False, color='#FFBF00')\n",
    "plt.legend(['1-й регион', '2-й регион', '3-й регион'])\n",
    "plt.xlabel('объём запасов в скважине (тыс. баррелей)')\n",
    "plt.ylabel('количество скважин')\n",
    "plt.title('Распределение по объёму запасов в скважинах')\n",
    "plt.show()"
   ]
  },
  {
   "cell_type": "markdown",
   "metadata": {},
   "source": [
    "***\n",
    "<a name=\"1conclusion\"></a>\n",
    "### Вывод\n",
    "\n",
    "* Дубликаты в данных отутствуют.\n",
    "* Столбцы `id` не содержат пользы для обучения моделей, можно удалить.\n",
    "* В втором регионе `geo_data_2` 8235 скважин с нулевым объёмом запасов.  \n",
    "  При этом всего 11 уникальных значений объёма выше нуля.  \n",
    "  Скорее всего, данные нарушены.  \n",
    "  При этом уникальные значения совпадают вплоть до восьмого знака после запятой.  \n",
    "  Но так как дубликатов нет, удалять строки не буду.  \n",
    "  Замена на среднее или медианное значение, на мой взгляд, нарушит общую картину.<br><br>\n",
    "***"
   ]
  },
  {
   "cell_type": "markdown",
   "metadata": {},
   "source": [
    "## Обучение и проверка модели"
   ]
  },
  {
   "cell_type": "code",
   "execution_count": 7,
   "metadata": {},
   "outputs": [],
   "source": [
    "def predictions_by_region(df, region_name): \n",
    "    features = df.drop(['product'], axis=1)\n",
    "    target = df['product']\n",
    "    features_train, features_valid, target_train, target_valid = train_test_split(\n",
    "        features, target, test_size=0.25, random_state=12345\n",
    "    )\n",
    "    scaler = StandardScaler()\n",
    "    scaler.fit(features_train)\n",
    "    features_train = scaler.transform(features_train)\n",
    "    features_valid = scaler.transform(features_valid)\n",
    "\n",
    "    model = LinearRegression(normalize=False)\n",
    "    model.fit(features_train, target_train)\n",
    "    predicted_valid = pd.Series(model.predict(features_valid))\n",
    "    mse = mean_squared_error(target_valid, predicted_valid)\n",
    "    rmse = mse ** 0.5\n",
    "\n",
    "    mean_product = target.mean()\n",
    "    mean_predicted = predicted_valid.mean()\n",
    "\n",
    "    print(f'>>> {region_name} <<<')\n",
    "    print(f'Среднеквадратическая ошибка (RMSE) модели: {rmse:.2f}')\n",
    "    print(f'Средний предсказанный объём запасов в скважине (тыс. баррелей): {mean_predicted:.2f}\\n')\n",
    "    \n",
    "    target_valid = target_valid.reset_index(drop=True)\n",
    "    return predicted_valid, target_valid"
   ]
  },
  {
   "cell_type": "code",
   "execution_count": 8,
   "metadata": {},
   "outputs": [
    {
     "name": "stdout",
     "output_type": "stream",
     "text": [
      ">>> Первый регион <<<\n",
      "Среднеквадратическая ошибка (RMSE) модели: 37.58\n",
      "Средний предсказанный объём запасов в скважине (тыс. баррелей): 92.59\n",
      "\n",
      ">>> Второй регион <<<\n",
      "Среднеквадратическая ошибка (RMSE) модели: 0.89\n",
      "Средний предсказанный объём запасов в скважине (тыс. баррелей): 68.73\n",
      "\n",
      ">>> Третий регион <<<\n",
      "Среднеквадратическая ошибка (RMSE) модели: 40.03\n",
      "Средний предсказанный объём запасов в скважине (тыс. баррелей): 94.97\n",
      "\n"
     ]
    }
   ],
   "source": [
    "predicted_valid_1, target_valid_1 = predictions_by_region(geo_data_1, 'Первый регион')\n",
    "predicted_valid_2, target_valid_2 = predictions_by_region(geo_data_2, 'Второй регион')\n",
    "predicted_valid_3, target_valid_3 = predictions_by_region(geo_data_3, 'Третий регион')\n",
    "predictions_dict = {\n",
    "    'Первый регион': (predicted_valid_1, target_valid_1),\n",
    "    'Второй регион': (predicted_valid_2, target_valid_2),\n",
    "    'Третий регион': (predicted_valid_3, target_valid_3),\n",
    "}"
   ]
  },
  {
   "cell_type": "markdown",
   "metadata": {},
   "source": [
    "***\n",
    "### Вывод\n",
    "\n",
    "* Лучший показатель среднеквадратической ошибки у второго региона.  \n",
    "  Данные по этому региону, скорее всего, нарушены.  \n",
    "  Нельзя с уверенностью относится к показателю RMSE.\n",
    "* Показатели RMSE первого и третьего регионов близки и равны примерно `38.81`.\n",
    "* Средний предсказанный объём запасов у второго региона меньше всего.  \n",
    "  Данные по этому региону, скорее всего, нарушены.  \n",
    "* Средний предсказанный объём запасов у второго региона меньше всего.\n",
    "* Средние предсказанные объёмы запасов первого и третьего регионов близки и равны примерно `93.78` тыс. баррелей.<br><br>\n",
    "***"
   ]
  },
  {
   "cell_type": "markdown",
   "metadata": {},
   "source": [
    "## Подготовка к расчёту прибыли"
   ]
  },
  {
   "cell_type": "markdown",
   "metadata": {},
   "source": [
    "Условия задачи:\n",
    "* При разведке региона исследуют 500 точек, из которых с помощью машинного обучения выбирают 200 лучших для разработки.\n",
    "* Бюджет на разработку скважин в регионе — 10 млрд рублей.\n",
    "* При нынешних ценах один баррель сырья приносит 450 рублей дохода.  \n",
    "  Доход с каждой единицы продукта составляет 450 тыс. рублей, поскольку объём указан в тысячах баррелей.\n",
    "* После оценки рисков нужно оставить лишь те регионы, в которых вероятность убытков меньше 2.5%.  \n",
    "  Среди них выбирают регион с наибольшей средней прибылью."
   ]
  },
  {
   "cell_type": "code",
   "execution_count": 9,
   "metadata": {},
   "outputs": [],
   "source": [
    "BUDGET = 10e9\n",
    "WELLS_TARGET = 200\n",
    "WELLS_POOL = 500\n",
    "PRODUCT_REVENUE = 450e3\n",
    "LOSS_PROBABILITY = 0.025\n",
    "well_cost = BUDGET / WELLS_TARGET\n",
    "product_target = well_cost / PRODUCT_REVENUE "
   ]
  },
  {
   "cell_type": "code",
   "execution_count": 10,
   "metadata": {},
   "outputs": [
    {
     "name": "stdout",
     "output_type": "stream",
     "text": [
      "Стоимость разработки одной точки: 50 млн. руб.\n",
      "Порог безубыточности одной точки: 111.11 тыс. баррелей\n"
     ]
    }
   ],
   "source": [
    "print(f'Стоимость разработки одной точки: {well_cost / 1e6:.0f} млн. руб.')\n",
    "print(f'Порог безубыточности одной точки: {product_target:.2f} тыс. баррелей')"
   ]
  },
  {
   "cell_type": "markdown",
   "metadata": {},
   "source": [
    "***\n",
    "### Вывод\n",
    "\n",
    "* Порог безубыточной добычи (`111.11`) выше средних показателей каждого региона (примерно `93.78`).<br><br>\n",
    "***"
   ]
  },
  {
   "cell_type": "markdown",
   "metadata": {},
   "source": [
    "## Расчёт прибыли и рисков "
   ]
  },
  {
   "cell_type": "markdown",
   "metadata": {},
   "source": [
    "Функция для расчёта прибыли по выбранным скважинам и предсказаниям модели"
   ]
  },
  {
   "cell_type": "code",
   "execution_count": 11,
   "metadata": {},
   "outputs": [],
   "source": [
    "def profit_prediction(predictions, target):\n",
    "    data = pd.concat([predictions, target], axis=1)\n",
    "    data.columns = ['predictions', 'target']\n",
    "    data = data.sort_values(by='predictions', ascending=False)[:WELLS_TARGET]\n",
    "    profit = (data['target'].sum() * PRODUCT_REVENUE) - BUDGET\n",
    "    return profit\n",
    "\n",
    "\n",
    "def profit_assessment(predictions, target):\n",
    "    state = np.random.RandomState(12345)\n",
    "    profits = []\n",
    "    for i in range(1000):\n",
    "        target_subsample = target.sample(n=500, replace=True, random_state=state)\n",
    "        predictions_subsample = predictions[target_subsample.index]\n",
    "        profit = profit_prediction(predictions_subsample, target_subsample)\n",
    "        profits.append(profit)\n",
    "    \n",
    "    profits = pd.Series(profits)\n",
    "    lower = profits.quantile(0.025)\n",
    "    upper = profits.quantile(0.975)\n",
    "    mean = profits.mean()\n",
    "    losses_probability = (profits < 0).mean()\n",
    "    \n",
    "    print(f'Средняя прибыль: {mean / 1e6:.1f} млн. руб.')\n",
    "    print(f'95%-й доверительный интервал: {lower / 1e6:.0f} – {upper / 1e6:.0f}  млн. руб.')\n",
    "    print(f'Риск убытков: {losses_probability:.1%}\\n')"
   ]
  },
  {
   "cell_type": "code",
   "execution_count": 12,
   "metadata": {},
   "outputs": [
    {
     "name": "stdout",
     "output_type": "stream",
     "text": [
      "Общая прибыль для 1-го региона: 3.321 млрд. руб.\n",
      "Общая прибыль для 2-го региона: 2.415 млрд. руб.\n",
      "Общая прибыль для 3-го региона: 2.710 млрд. руб.\n"
     ]
    }
   ],
   "source": [
    "profit_region_1 = profit_prediction(predicted_valid_1, target_valid_1)\n",
    "profit_region_2 = profit_prediction(predicted_valid_2, target_valid_2)\n",
    "profit_region_3 = profit_prediction(predicted_valid_3, target_valid_3)\n",
    "for i, profit in enumerate([profit_region_1, profit_region_2, profit_region_3]):\n",
    "    print(f'Общая прибыль для {i + 1}-го региона: {profit / 1e9:.3f} млрд. руб.')"
   ]
  },
  {
   "cell_type": "code",
   "execution_count": 13,
   "metadata": {},
   "outputs": [
    {
     "name": "stdout",
     "output_type": "stream",
     "text": [
      ">>> Первый регион <<<\n",
      "Средняя прибыль: 396.2 млн. руб.\n",
      "95%-й доверительный интервал: -111 – 910  млн. руб.\n",
      "Риск убытков: 6.9%\n",
      "\n",
      ">>> Второй регион <<<\n",
      "Средняя прибыль: 456.0 млн. руб.\n",
      "95%-й доверительный интервал: 34 – 852  млн. руб.\n",
      "Риск убытков: 1.5%\n",
      "\n",
      ">>> Третий регион <<<\n",
      "Средняя прибыль: 404.4 млн. руб.\n",
      "95%-й доверительный интервал: -163 – 950  млн. руб.\n",
      "Риск убытков: 7.6%\n",
      "\n"
     ]
    }
   ],
   "source": [
    "for name, data in predictions_dict.items():\n",
    "    print(f'>>> {name} <<<')\n",
    "    profit_assessment(data[0], data[1])"
   ]
  },
  {
   "cell_type": "markdown",
   "metadata": {
    "pycharm": {
     "name": "#%% md\n"
    }
   },
   "source": [
    "***\n",
    "## Общий вывод\n",
    "\n",
    "Только второй регион подходит под условия задачи — риск убытков менее 2.5%.  \n",
    "Риск убытков во втором регионе — `1.5%`.  \n",
    "Он же является регионом с наибольшей средней прибылью — `456 млн. руб.`  \n",
    "Но исходя из [выводов первого пункта](#1conclusion),  \n",
    "данные по объёму запасов второго региона:  \n",
    "  - имеют много (8%) нулевых значений;  \n",
    "  - 11 уникальных значений объёма запасов выше нуля;  \n",
    "  - уникальные значения совпадают вплоть до восьмого знака после запятой.  \n",
    "\n",
    "Высока вероятность того, что данные по объёму запасов нарушены и им нельзя доверять.  \n",
    "Рекомендуется перепроверить источник данных по второму региону.<br><br>\n",
    "***"
   ]
  }
 ],
 "metadata": {
  "ExecuteTimeLog": [
   {
    "duration": 2531,
    "start_time": "2022-04-16T19:48:03.719Z"
   },
   {
    "duration": 520,
    "start_time": "2022-04-16T19:49:46.911Z"
   },
   {
    "duration": 471,
    "start_time": "2022-04-16T19:49:47.965Z"
   },
   {
    "duration": 24,
    "start_time": "2022-04-16T19:49:48.439Z"
   },
   {
    "duration": 82,
    "start_time": "2022-04-16T19:59:06.719Z"
   },
   {
    "duration": 2046,
    "start_time": "2022-04-16T19:59:17.794Z"
   },
   {
    "duration": 482,
    "start_time": "2022-04-16T19:59:19.843Z"
   },
   {
    "duration": 23,
    "start_time": "2022-04-16T19:59:20.327Z"
   },
   {
    "duration": 4,
    "start_time": "2022-04-16T19:59:20.353Z"
   },
   {
    "duration": 134,
    "start_time": "2022-04-16T19:59:20.359Z"
   },
   {
    "duration": 7,
    "start_time": "2022-04-16T19:59:48.518Z"
   },
   {
    "duration": 120,
    "start_time": "2022-04-16T19:59:48.685Z"
   },
   {
    "duration": 2044,
    "start_time": "2022-04-16T20:00:24.217Z"
   },
   {
    "duration": 462,
    "start_time": "2022-04-16T20:00:26.264Z"
   },
   {
    "duration": 24,
    "start_time": "2022-04-16T20:00:26.728Z"
   },
   {
    "duration": 6,
    "start_time": "2022-04-16T20:00:26.754Z"
   },
   {
    "duration": 157,
    "start_time": "2022-04-16T20:00:26.762Z"
   },
   {
    "duration": 1983,
    "start_time": "2022-04-16T20:01:10.103Z"
   },
   {
    "duration": 427,
    "start_time": "2022-04-16T20:01:12.088Z"
   },
   {
    "duration": 5,
    "start_time": "2022-04-16T20:01:12.518Z"
   },
   {
    "duration": 109,
    "start_time": "2022-04-16T20:01:12.525Z"
   },
   {
    "duration": 5,
    "start_time": "2022-04-16T20:01:29.845Z"
   },
   {
    "duration": 167,
    "start_time": "2022-04-16T20:01:30.087Z"
   },
   {
    "duration": 5,
    "start_time": "2022-04-16T20:01:34.589Z"
   },
   {
    "duration": 87,
    "start_time": "2022-04-16T20:01:34.870Z"
   },
   {
    "duration": 6,
    "start_time": "2022-04-16T20:02:03.979Z"
   },
   {
    "duration": 5,
    "start_time": "2022-04-16T20:02:04.890Z"
   },
   {
    "duration": 202,
    "start_time": "2022-04-16T20:02:05.099Z"
   },
   {
    "duration": 5,
    "start_time": "2022-04-16T20:02:12.714Z"
   },
   {
    "duration": 79,
    "start_time": "2022-04-16T20:02:12.963Z"
   },
   {
    "duration": 6,
    "start_time": "2022-04-16T20:02:20.676Z"
   },
   {
    "duration": 122,
    "start_time": "2022-04-16T20:02:20.878Z"
   },
   {
    "duration": 5,
    "start_time": "2022-04-16T20:02:30.133Z"
   },
   {
    "duration": 209,
    "start_time": "2022-04-16T20:02:30.453Z"
   },
   {
    "duration": 7,
    "start_time": "2022-04-16T20:20:01.488Z"
   },
   {
    "duration": 5,
    "start_time": "2022-04-16T20:20:02.781Z"
   },
   {
    "duration": 306,
    "start_time": "2022-04-16T20:20:03.090Z"
   },
   {
    "duration": 7,
    "start_time": "2022-04-16T20:20:08.253Z"
   },
   {
    "duration": 283,
    "start_time": "2022-04-16T20:20:08.456Z"
   },
   {
    "duration": 7,
    "start_time": "2022-04-16T20:20:17.062Z"
   },
   {
    "duration": 257,
    "start_time": "2022-04-16T20:20:17.480Z"
   },
   {
    "duration": 6,
    "start_time": "2022-04-16T20:23:42.007Z"
   },
   {
    "duration": 428,
    "start_time": "2022-04-16T20:23:42.205Z"
   },
   {
    "duration": 5,
    "start_time": "2022-04-16T20:23:50.526Z"
   },
   {
    "duration": 439,
    "start_time": "2022-04-16T20:23:50.704Z"
   },
   {
    "duration": 6,
    "start_time": "2022-04-16T20:24:03.038Z"
   },
   {
    "duration": 422,
    "start_time": "2022-04-16T20:24:03.201Z"
   },
   {
    "duration": 6,
    "start_time": "2022-04-16T20:24:11.272Z"
   },
   {
    "duration": 394,
    "start_time": "2022-04-16T20:24:11.450Z"
   },
   {
    "duration": 19,
    "start_time": "2022-04-16T20:24:56.182Z"
   },
   {
    "duration": 21,
    "start_time": "2022-04-16T20:25:02.566Z"
   },
   {
    "duration": 16,
    "start_time": "2022-04-16T20:25:07.511Z"
   },
   {
    "duration": 10,
    "start_time": "2022-04-16T20:26:39.145Z"
   },
   {
    "duration": 7,
    "start_time": "2022-04-16T20:27:34.317Z"
   },
   {
    "duration": 441,
    "start_time": "2022-04-16T20:27:34.496Z"
   },
   {
    "duration": 18,
    "start_time": "2022-04-16T20:30:21.744Z"
   },
   {
    "duration": 7,
    "start_time": "2022-04-16T20:30:59.539Z"
   },
   {
    "duration": 12,
    "start_time": "2022-04-16T20:31:09.672Z"
   },
   {
    "duration": 23,
    "start_time": "2022-04-16T20:31:18.871Z"
   },
   {
    "duration": 16,
    "start_time": "2022-04-16T20:31:35.178Z"
   },
   {
    "duration": 7,
    "start_time": "2022-04-16T20:31:38.664Z"
   },
   {
    "duration": 14,
    "start_time": "2022-04-16T20:31:41.537Z"
   },
   {
    "duration": 7,
    "start_time": "2022-04-16T20:32:01.547Z"
   },
   {
    "duration": 7,
    "start_time": "2022-04-16T20:33:12.345Z"
   },
   {
    "duration": 485,
    "start_time": "2022-04-16T20:33:12.514Z"
   },
   {
    "duration": 7,
    "start_time": "2022-04-16T20:33:24.516Z"
   },
   {
    "duration": 40,
    "start_time": "2022-04-17T11:19:59.127Z"
   },
   {
    "duration": 2044,
    "start_time": "2022-04-17T11:20:10.426Z"
   },
   {
    "duration": 305,
    "start_time": "2022-04-17T11:20:12.472Z"
   },
   {
    "duration": 4,
    "start_time": "2022-04-17T11:20:12.779Z"
   },
   {
    "duration": 291,
    "start_time": "2022-04-17T11:20:12.784Z"
   },
   {
    "duration": 4,
    "start_time": "2022-04-17T11:20:13.077Z"
   },
   {
    "duration": 121,
    "start_time": "2022-04-17T11:20:13.083Z"
   },
   {
    "duration": 9,
    "start_time": "2022-04-17T11:20:24.944Z"
   },
   {
    "duration": 13,
    "start_time": "2022-04-17T11:20:40.691Z"
   },
   {
    "duration": 9,
    "start_time": "2022-04-17T11:20:51.875Z"
   },
   {
    "duration": 1417,
    "start_time": "2022-04-17T11:20:56.885Z"
   },
   {
    "duration": 1092,
    "start_time": "2022-04-17T11:21:00.070Z"
   },
   {
    "duration": 10,
    "start_time": "2022-04-17T11:21:02.669Z"
   },
   {
    "duration": 8,
    "start_time": "2022-04-17T11:21:13.741Z"
   },
   {
    "duration": 15,
    "start_time": "2022-04-17T11:21:21.312Z"
   },
   {
    "duration": 16,
    "start_time": "2022-04-17T11:21:28.961Z"
   },
   {
    "duration": 8,
    "start_time": "2022-04-17T11:21:35.891Z"
   },
   {
    "duration": 15,
    "start_time": "2022-04-17T11:21:40.137Z"
   },
   {
    "duration": 16,
    "start_time": "2022-04-17T11:21:46.178Z"
   },
   {
    "duration": 16,
    "start_time": "2022-04-17T11:21:58.323Z"
   },
   {
    "duration": 14,
    "start_time": "2022-04-17T11:22:24.981Z"
   },
   {
    "duration": 8,
    "start_time": "2022-04-17T11:22:41.582Z"
   },
   {
    "duration": 7,
    "start_time": "2022-04-17T11:23:04.441Z"
   },
   {
    "duration": 7,
    "start_time": "2022-04-17T11:23:19.787Z"
   },
   {
    "duration": 8,
    "start_time": "2022-04-17T11:24:59.369Z"
   },
   {
    "duration": 213,
    "start_time": "2022-04-17T12:57:34.371Z"
   },
   {
    "duration": 217,
    "start_time": "2022-04-17T12:58:03.352Z"
   },
   {
    "duration": 271,
    "start_time": "2022-04-17T12:58:15.913Z"
   },
   {
    "duration": 190,
    "start_time": "2022-04-17T13:07:50.960Z"
   },
   {
    "duration": 255,
    "start_time": "2022-04-17T13:08:12.677Z"
   },
   {
    "duration": 270,
    "start_time": "2022-04-17T13:08:32.900Z"
   },
   {
    "duration": 266,
    "start_time": "2022-04-17T13:08:53.177Z"
   },
   {
    "duration": 261,
    "start_time": "2022-04-17T13:09:36.226Z"
   },
   {
    "duration": 334,
    "start_time": "2022-04-17T13:12:30.003Z"
   },
   {
    "duration": 1360,
    "start_time": "2022-04-17T13:39:37.055Z"
   },
   {
    "duration": 288,
    "start_time": "2022-04-17T13:39:38.417Z"
   },
   {
    "duration": 5,
    "start_time": "2022-04-17T13:39:38.707Z"
   },
   {
    "duration": 285,
    "start_time": "2022-04-17T13:39:38.714Z"
   },
   {
    "duration": 26,
    "start_time": "2022-04-17T13:39:39.000Z"
   },
   {
    "duration": 356,
    "start_time": "2022-04-17T13:39:39.028Z"
   },
   {
    "duration": 1290,
    "start_time": "2022-04-17T13:40:09.635Z"
   },
   {
    "duration": 336,
    "start_time": "2022-04-17T13:40:25.166Z"
   },
   {
    "duration": 368,
    "start_time": "2022-04-17T13:46:59.836Z"
   },
   {
    "duration": 11,
    "start_time": "2022-04-17T13:49:23.833Z"
   },
   {
    "duration": 41,
    "start_time": "2022-04-17T14:24:16.318Z"
   },
   {
    "duration": 29,
    "start_time": "2022-04-17T14:24:36.147Z"
   },
   {
    "duration": 33,
    "start_time": "2022-04-17T14:25:45.266Z"
   },
   {
    "duration": 251,
    "start_time": "2022-04-17T14:26:01.260Z"
   },
   {
    "duration": 54,
    "start_time": "2022-04-17T14:26:08.672Z"
   },
   {
    "duration": 25,
    "start_time": "2022-04-17T14:26:14.976Z"
   },
   {
    "duration": 8,
    "start_time": "2022-04-17T14:38:31.413Z"
   },
   {
    "duration": 132,
    "start_time": "2022-04-17T14:38:34.365Z"
   },
   {
    "duration": 10,
    "start_time": "2022-04-17T14:38:35.237Z"
   },
   {
    "duration": 4,
    "start_time": "2022-04-17T14:38:43.273Z"
   },
   {
    "duration": 29,
    "start_time": "2022-04-17T14:38:43.877Z"
   },
   {
    "duration": 189,
    "start_time": "2022-04-17T14:39:01.450Z"
   },
   {
    "duration": 6,
    "start_time": "2022-04-17T14:39:13.521Z"
   },
   {
    "duration": 5,
    "start_time": "2022-04-17T14:39:14.506Z"
   },
   {
    "duration": 232,
    "start_time": "2022-04-17T14:39:14.796Z"
   },
   {
    "duration": 5,
    "start_time": "2022-04-17T14:39:47.439Z"
   },
   {
    "duration": 238,
    "start_time": "2022-04-17T14:39:47.790Z"
   },
   {
    "duration": 4,
    "start_time": "2022-04-17T14:40:00.567Z"
   },
   {
    "duration": 173,
    "start_time": "2022-04-17T14:40:00.769Z"
   },
   {
    "duration": 8,
    "start_time": "2022-04-17T15:58:05.623Z"
   },
   {
    "duration": 8,
    "start_time": "2022-04-17T15:58:08.808Z"
   },
   {
    "duration": 8,
    "start_time": "2022-04-17T15:58:31.610Z"
   },
   {
    "duration": 7,
    "start_time": "2022-04-17T15:58:35.451Z"
   },
   {
    "duration": 3,
    "start_time": "2022-04-17T17:30:40.949Z"
   },
   {
    "duration": 4,
    "start_time": "2022-04-17T17:30:49.943Z"
   },
   {
    "duration": 4,
    "start_time": "2022-04-17T17:30:53.285Z"
   },
   {
    "duration": 4,
    "start_time": "2022-04-17T17:31:47.722Z"
   },
   {
    "duration": 3,
    "start_time": "2022-04-17T18:12:28.858Z"
   },
   {
    "duration": 5,
    "start_time": "2022-04-17T18:12:29.162Z"
   },
   {
    "duration": 4,
    "start_time": "2022-04-17T18:15:08.170Z"
   },
   {
    "duration": 3,
    "start_time": "2022-04-17T18:15:08.443Z"
   },
   {
    "duration": 3,
    "start_time": "2022-04-17T20:48:46.153Z"
   },
   {
    "duration": 3,
    "start_time": "2022-04-17T20:53:32.902Z"
   },
   {
    "duration": 3,
    "start_time": "2022-04-17T20:53:33.168Z"
   },
   {
    "duration": 3,
    "start_time": "2022-04-17T20:53:33.479Z"
   },
   {
    "duration": 3,
    "start_time": "2022-04-17T20:53:33.839Z"
   },
   {
    "duration": 3,
    "start_time": "2022-04-17T20:57:57.740Z"
   },
   {
    "duration": 3,
    "start_time": "2022-04-17T21:00:19.262Z"
   },
   {
    "duration": 3,
    "start_time": "2022-04-17T21:00:41.414Z"
   },
   {
    "duration": 8,
    "start_time": "2022-04-17T21:00:58.142Z"
   },
   {
    "duration": 133,
    "start_time": "2022-04-17T21:01:03.952Z"
   },
   {
    "duration": 3,
    "start_time": "2022-04-17T21:01:16.731Z"
   },
   {
    "duration": 4,
    "start_time": "2022-04-17T21:01:22.675Z"
   },
   {
    "duration": 4,
    "start_time": "2022-04-17T21:01:43.268Z"
   },
   {
    "duration": 3,
    "start_time": "2022-04-17T21:01:44.922Z"
   },
   {
    "duration": 3,
    "start_time": "2022-04-17T21:01:45.580Z"
   },
   {
    "duration": 3,
    "start_time": "2022-04-17T21:01:50.733Z"
   },
   {
    "duration": 3,
    "start_time": "2022-04-17T21:01:54.981Z"
   },
   {
    "duration": 3,
    "start_time": "2022-04-17T21:02:08.359Z"
   },
   {
    "duration": 3,
    "start_time": "2022-04-17T21:02:19.040Z"
   },
   {
    "duration": 4,
    "start_time": "2022-04-17T21:04:05.179Z"
   },
   {
    "duration": 3,
    "start_time": "2022-04-17T21:04:24.181Z"
   },
   {
    "duration": 14,
    "start_time": "2022-04-17T21:04:40.918Z"
   },
   {
    "duration": 4,
    "start_time": "2022-04-17T21:05:05.904Z"
   },
   {
    "duration": 9,
    "start_time": "2022-04-17T21:05:59.927Z"
   },
   {
    "duration": 9,
    "start_time": "2022-04-17T21:07:10.950Z"
   },
   {
    "duration": 10,
    "start_time": "2022-04-17T21:08:36.007Z"
   },
   {
    "duration": 4,
    "start_time": "2022-04-17T21:08:42.584Z"
   },
   {
    "duration": 4,
    "start_time": "2022-04-17T21:08:44.305Z"
   },
   {
    "duration": 9,
    "start_time": "2022-04-17T21:08:44.624Z"
   },
   {
    "duration": 3,
    "start_time": "2022-04-17T21:08:49.865Z"
   },
   {
    "duration": 9,
    "start_time": "2022-04-17T21:08:50.121Z"
   },
   {
    "duration": 3,
    "start_time": "2022-04-17T21:11:52.620Z"
   },
   {
    "duration": 8,
    "start_time": "2022-04-17T21:12:15.704Z"
   },
   {
    "duration": 7,
    "start_time": "2022-04-17T21:12:21.074Z"
   },
   {
    "duration": 8,
    "start_time": "2022-04-17T21:12:25.507Z"
   },
   {
    "duration": 2,
    "start_time": "2022-04-17T21:12:34.804Z"
   },
   {
    "duration": 3,
    "start_time": "2022-04-17T21:12:52.125Z"
   },
   {
    "duration": 3,
    "start_time": "2022-04-17T21:12:57.247Z"
   },
   {
    "duration": 3,
    "start_time": "2022-04-17T21:13:12.312Z"
   },
   {
    "duration": 3,
    "start_time": "2022-04-17T21:17:13.543Z"
   },
   {
    "duration": 4,
    "start_time": "2022-04-17T22:10:31.961Z"
   },
   {
    "duration": 5,
    "start_time": "2022-04-17T22:10:35.623Z"
   },
   {
    "duration": 5,
    "start_time": "2022-04-17T22:29:24.738Z"
   },
   {
    "duration": 301,
    "start_time": "2022-04-17T22:29:24.928Z"
   },
   {
    "duration": 6,
    "start_time": "2022-04-17T22:29:26.576Z"
   },
   {
    "duration": 4,
    "start_time": "2022-04-17T22:29:27.208Z"
   },
   {
    "duration": 3,
    "start_time": "2022-04-17T22:29:32.993Z"
   },
   {
    "duration": 4,
    "start_time": "2022-04-17T22:29:33.441Z"
   },
   {
    "duration": 5,
    "start_time": "2022-04-17T22:29:40.026Z"
   },
   {
    "duration": 8,
    "start_time": "2022-04-17T22:29:40.233Z"
   },
   {
    "duration": 13,
    "start_time": "2022-04-17T22:30:20.358Z"
   },
   {
    "duration": 6,
    "start_time": "2022-04-17T22:30:37.521Z"
   },
   {
    "duration": 5,
    "start_time": "2022-04-17T22:30:54.202Z"
   },
   {
    "duration": 8,
    "start_time": "2022-04-17T22:31:26.879Z"
   },
   {
    "duration": 20,
    "start_time": "2022-04-17T22:31:35.953Z"
   },
   {
    "duration": 3,
    "start_time": "2022-04-17T23:20:35.715Z"
   },
   {
    "duration": 20,
    "start_time": "2022-04-17T23:20:38.531Z"
   },
   {
    "duration": 1440,
    "start_time": "2022-04-17T23:24:04.593Z"
   },
   {
    "duration": 306,
    "start_time": "2022-04-17T23:24:06.036Z"
   },
   {
    "duration": 6,
    "start_time": "2022-04-17T23:24:06.343Z"
   },
   {
    "duration": 315,
    "start_time": "2022-04-17T23:24:06.350Z"
   },
   {
    "duration": 16,
    "start_time": "2022-04-17T23:24:06.667Z"
   },
   {
    "duration": 392,
    "start_time": "2022-04-17T23:24:06.684Z"
   },
   {
    "duration": 5,
    "start_time": "2022-04-17T23:24:07.078Z"
   },
   {
    "duration": 449,
    "start_time": "2022-04-17T23:24:07.084Z"
   },
   {
    "duration": 94,
    "start_time": "2022-04-17T23:24:07.535Z"
   },
   {
    "duration": 94,
    "start_time": "2022-04-17T23:24:07.631Z"
   },
   {
    "duration": 5,
    "start_time": "2022-04-17T23:24:07.728Z"
   },
   {
    "duration": 6,
    "start_time": "2022-04-17T23:24:07.734Z"
   },
   {
    "duration": 4,
    "start_time": "2022-04-17T23:24:07.743Z"
   },
   {
    "duration": 13,
    "start_time": "2022-04-17T23:24:07.750Z"
   },
   {
    "duration": 6,
    "start_time": "2022-04-17T23:24:07.765Z"
   },
   {
    "duration": 4,
    "start_time": "2022-04-17T23:24:07.773Z"
   },
   {
    "duration": 4,
    "start_time": "2022-04-17T23:32:27.752Z"
   },
   {
    "duration": 26,
    "start_time": "2022-04-17T23:32:28.014Z"
   },
   {
    "duration": 21,
    "start_time": "2022-04-17T23:34:00.192Z"
   },
   {
    "duration": 21,
    "start_time": "2022-04-17T23:34:07.394Z"
   },
   {
    "duration": 4,
    "start_time": "2022-04-17T23:34:10.857Z"
   },
   {
    "duration": 14,
    "start_time": "2022-04-17T23:34:11.067Z"
   },
   {
    "duration": 15,
    "start_time": "2022-04-17T23:34:19.293Z"
   },
   {
    "duration": 14,
    "start_time": "2022-04-17T23:35:40.765Z"
   },
   {
    "duration": 3,
    "start_time": "2022-04-17T23:36:14.281Z"
   },
   {
    "duration": 3,
    "start_time": "2022-04-17T23:36:27.035Z"
   },
   {
    "duration": 3,
    "start_time": "2022-04-17T23:36:36.467Z"
   },
   {
    "duration": 3,
    "start_time": "2022-04-17T23:36:36.642Z"
   },
   {
    "duration": 165,
    "start_time": "2022-04-17T23:45:53.222Z"
   },
   {
    "duration": 6,
    "start_time": "2022-04-17T23:45:55.855Z"
   },
   {
    "duration": 22,
    "start_time": "2022-04-17T23:45:56.231Z"
   },
   {
    "duration": 8,
    "start_time": "2022-04-17T23:45:56.759Z"
   },
   {
    "duration": 6,
    "start_time": "2022-04-17T23:48:37.272Z"
   },
   {
    "duration": 24,
    "start_time": "2022-04-17T23:48:37.640Z"
   },
   {
    "duration": 18,
    "start_time": "2022-04-17T23:48:37.824Z"
   },
   {
    "duration": 5,
    "start_time": "2022-04-17T23:48:45.089Z"
   },
   {
    "duration": 16,
    "start_time": "2022-04-17T23:48:45.442Z"
   },
   {
    "duration": 6,
    "start_time": "2022-04-17T23:48:45.617Z"
   },
   {
    "duration": 5,
    "start_time": "2022-04-17T23:50:41.192Z"
   },
   {
    "duration": 17,
    "start_time": "2022-04-17T23:50:41.629Z"
   },
   {
    "duration": 1334,
    "start_time": "2022-04-17T23:50:42.181Z"
   },
   {
    "duration": 5,
    "start_time": "2022-04-17T23:51:36.883Z"
   },
   {
    "duration": 16,
    "start_time": "2022-04-17T23:51:37.259Z"
   },
   {
    "duration": 1295,
    "start_time": "2022-04-17T23:51:37.442Z"
   },
   {
    "duration": 6,
    "start_time": "2022-04-17T23:56:55.851Z"
   },
   {
    "duration": 17,
    "start_time": "2022-04-17T23:56:56.244Z"
   },
   {
    "duration": 1337,
    "start_time": "2022-04-17T23:56:56.418Z"
   },
   {
    "duration": 5,
    "start_time": "2022-04-17T23:57:11.373Z"
   },
   {
    "duration": 15,
    "start_time": "2022-04-17T23:57:11.757Z"
   },
   {
    "duration": 1375,
    "start_time": "2022-04-17T23:57:11.926Z"
   },
   {
    "duration": 6,
    "start_time": "2022-04-17T23:57:30.144Z"
   },
   {
    "duration": 17,
    "start_time": "2022-04-17T23:57:30.591Z"
   },
   {
    "duration": 1353,
    "start_time": "2022-04-17T23:57:30.840Z"
   },
   {
    "duration": 5,
    "start_time": "2022-04-17T23:57:55.612Z"
   },
   {
    "duration": 16,
    "start_time": "2022-04-17T23:57:56.002Z"
   },
   {
    "duration": 1420,
    "start_time": "2022-04-17T23:57:56.186Z"
   },
   {
    "duration": 6,
    "start_time": "2022-04-17T23:58:04.682Z"
   },
   {
    "duration": 15,
    "start_time": "2022-04-17T23:58:05.082Z"
   },
   {
    "duration": 1311,
    "start_time": "2022-04-17T23:58:05.251Z"
   },
   {
    "duration": 5,
    "start_time": "2022-04-18T00:00:22.635Z"
   },
   {
    "duration": 16,
    "start_time": "2022-04-18T00:00:23.001Z"
   },
   {
    "duration": 1316,
    "start_time": "2022-04-18T00:00:23.168Z"
   },
   {
    "duration": 5,
    "start_time": "2022-04-18T00:00:36.828Z"
   },
   {
    "duration": 18,
    "start_time": "2022-04-18T00:00:37.355Z"
   },
   {
    "duration": 2626,
    "start_time": "2022-04-18T00:00:37.547Z"
   },
   {
    "duration": 8,
    "start_time": "2022-04-18T00:00:59.183Z"
   },
   {
    "duration": 22,
    "start_time": "2022-04-18T00:00:59.789Z"
   },
   {
    "duration": 2688,
    "start_time": "2022-04-18T00:00:59.966Z"
   },
   {
    "duration": 9,
    "start_time": "2022-04-18T00:02:24.630Z"
   },
   {
    "duration": 22,
    "start_time": "2022-04-18T00:02:24.985Z"
   },
   {
    "duration": 2633,
    "start_time": "2022-04-18T00:02:25.159Z"
   },
   {
    "duration": 9,
    "start_time": "2022-04-18T00:02:53.010Z"
   },
   {
    "duration": 23,
    "start_time": "2022-04-18T00:02:53.402Z"
   },
   {
    "duration": 2770,
    "start_time": "2022-04-18T00:02:53.601Z"
   },
   {
    "duration": 8,
    "start_time": "2022-04-18T00:03:22.764Z"
   },
   {
    "duration": 17,
    "start_time": "2022-04-18T00:03:23.173Z"
   },
   {
    "duration": 1320,
    "start_time": "2022-04-18T00:03:23.660Z"
   },
   {
    "duration": 5,
    "start_time": "2022-04-18T00:03:31.589Z"
   },
   {
    "duration": 15,
    "start_time": "2022-04-18T00:03:31.982Z"
   },
   {
    "duration": 1333,
    "start_time": "2022-04-18T00:03:32.142Z"
   },
   {
    "duration": 9,
    "start_time": "2022-04-18T00:04:15.017Z"
   },
   {
    "duration": 18,
    "start_time": "2022-04-18T00:04:15.393Z"
   },
   {
    "duration": 1328,
    "start_time": "2022-04-18T00:04:16.506Z"
   },
   {
    "duration": 6,
    "start_time": "2022-04-18T00:04:29.606Z"
   },
   {
    "duration": 17,
    "start_time": "2022-04-18T00:04:29.947Z"
   },
   {
    "duration": 1589,
    "start_time": "2022-04-18T00:04:30.123Z"
   },
   {
    "duration": 15,
    "start_time": "2022-04-18T00:17:15.214Z"
   },
   {
    "duration": 1504,
    "start_time": "2022-04-18T00:17:29.286Z"
   },
   {
    "duration": 348,
    "start_time": "2022-04-18T00:17:30.793Z"
   },
   {
    "duration": 5,
    "start_time": "2022-04-18T00:17:31.143Z"
   },
   {
    "duration": 338,
    "start_time": "2022-04-18T00:17:31.150Z"
   },
   {
    "duration": 34,
    "start_time": "2022-04-18T00:17:31.490Z"
   },
   {
    "duration": 393,
    "start_time": "2022-04-18T00:17:31.525Z"
   },
   {
    "duration": 10,
    "start_time": "2022-04-18T00:17:31.924Z"
   },
   {
    "duration": 411,
    "start_time": "2022-04-18T00:17:31.937Z"
   },
   {
    "duration": 81,
    "start_time": "2022-04-18T00:17:32.351Z"
   },
   {
    "duration": 109,
    "start_time": "2022-04-18T00:17:32.433Z"
   },
   {
    "duration": 4,
    "start_time": "2022-04-18T00:17:32.544Z"
   },
   {
    "duration": 6,
    "start_time": "2022-04-18T00:17:32.550Z"
   },
   {
    "duration": 8,
    "start_time": "2022-04-18T00:17:32.557Z"
   },
   {
    "duration": 18,
    "start_time": "2022-04-18T00:17:32.568Z"
   },
   {
    "duration": 115,
    "start_time": "2022-04-18T00:17:32.588Z"
   },
   {
    "duration": 13,
    "start_time": "2022-04-18T00:17:53.909Z"
   },
   {
    "duration": 11,
    "start_time": "2022-04-18T00:18:16.358Z"
   },
   {
    "duration": 142,
    "start_time": "2022-04-18T00:19:10.445Z"
   },
   {
    "duration": 16,
    "start_time": "2022-04-18T00:19:11.147Z"
   },
   {
    "duration": 139,
    "start_time": "2022-04-18T00:19:16.707Z"
   },
   {
    "duration": 5,
    "start_time": "2022-04-18T00:19:24.211Z"
   },
   {
    "duration": 16,
    "start_time": "2022-04-18T00:19:24.970Z"
   },
   {
    "duration": 12,
    "start_time": "2022-04-18T00:19:25.276Z"
   },
   {
    "duration": 11,
    "start_time": "2022-04-18T00:19:51.047Z"
   },
   {
    "duration": 4588,
    "start_time": "2022-04-18T00:20:04.752Z"
   },
   {
    "duration": 5002,
    "start_time": "2022-04-18T00:20:11.121Z"
   },
   {
    "duration": 6,
    "start_time": "2022-04-18T00:20:32.044Z"
   },
   {
    "duration": 16,
    "start_time": "2022-04-18T00:20:32.437Z"
   },
   {
    "duration": 5428,
    "start_time": "2022-04-18T00:20:32.618Z"
   },
   {
    "duration": 129,
    "start_time": "2022-04-18T00:29:16.906Z"
   },
   {
    "duration": 1676,
    "start_time": "2022-04-18T00:55:47.273Z"
   },
   {
    "duration": 480,
    "start_time": "2022-04-18T00:55:48.951Z"
   },
   {
    "duration": 7,
    "start_time": "2022-04-18T00:55:49.433Z"
   },
   {
    "duration": 465,
    "start_time": "2022-04-18T00:55:49.442Z"
   },
   {
    "duration": 30,
    "start_time": "2022-04-18T00:55:49.910Z"
   },
   {
    "duration": 666,
    "start_time": "2022-04-18T00:55:49.942Z"
   },
   {
    "duration": 5,
    "start_time": "2022-04-18T00:55:50.611Z"
   },
   {
    "duration": 412,
    "start_time": "2022-04-18T00:55:50.623Z"
   },
   {
    "duration": 3,
    "start_time": "2022-04-18T00:55:51.037Z"
   },
   {
    "duration": 90,
    "start_time": "2022-04-18T00:55:51.041Z"
   },
   {
    "duration": 98,
    "start_time": "2022-04-18T00:55:51.133Z"
   },
   {
    "duration": 19,
    "start_time": "2022-04-18T00:55:51.233Z"
   },
   {
    "duration": 4362,
    "start_time": "2022-04-18T00:55:51.254Z"
   },
   {
    "duration": 1429,
    "start_time": "2022-04-18T00:56:18.629Z"
   },
   {
    "duration": 312,
    "start_time": "2022-04-18T00:56:20.060Z"
   },
   {
    "duration": 5,
    "start_time": "2022-04-18T00:56:20.374Z"
   },
   {
    "duration": 302,
    "start_time": "2022-04-18T00:56:20.381Z"
   },
   {
    "duration": 16,
    "start_time": "2022-04-18T00:56:20.685Z"
   },
   {
    "duration": 384,
    "start_time": "2022-04-18T00:56:20.703Z"
   },
   {
    "duration": 5,
    "start_time": "2022-04-18T00:56:21.089Z"
   },
   {
    "duration": 436,
    "start_time": "2022-04-18T00:56:21.096Z"
   },
   {
    "duration": 90,
    "start_time": "2022-04-18T00:56:21.534Z"
   },
   {
    "duration": 97,
    "start_time": "2022-04-18T00:56:21.627Z"
   },
   {
    "duration": 8,
    "start_time": "2022-04-18T00:56:21.726Z"
   },
   {
    "duration": 17,
    "start_time": "2022-04-18T00:56:21.736Z"
   },
   {
    "duration": 3975,
    "start_time": "2022-04-18T00:56:21.755Z"
   },
   {
    "duration": 355,
    "start_time": "2022-04-18T00:57:10.394Z"
   },
   {
    "duration": 421,
    "start_time": "2022-04-18T00:57:50.231Z"
   },
   {
    "duration": 347,
    "start_time": "2022-04-18T00:58:03.840Z"
   },
   {
    "duration": 1366,
    "start_time": "2022-04-18T00:59:05.240Z"
   },
   {
    "duration": 323,
    "start_time": "2022-04-18T00:59:06.608Z"
   },
   {
    "duration": 6,
    "start_time": "2022-04-18T00:59:06.932Z"
   },
   {
    "duration": 331,
    "start_time": "2022-04-18T00:59:06.940Z"
   },
   {
    "duration": 15,
    "start_time": "2022-04-18T00:59:07.274Z"
   },
   {
    "duration": 116,
    "start_time": "2022-04-18T00:59:07.291Z"
   },
   {
    "duration": 0,
    "start_time": "2022-04-18T00:59:07.409Z"
   },
   {
    "duration": 0,
    "start_time": "2022-04-18T00:59:07.411Z"
   },
   {
    "duration": 0,
    "start_time": "2022-04-18T00:59:07.412Z"
   },
   {
    "duration": 0,
    "start_time": "2022-04-18T00:59:07.413Z"
   },
   {
    "duration": 0,
    "start_time": "2022-04-18T00:59:07.423Z"
   },
   {
    "duration": 0,
    "start_time": "2022-04-18T00:59:07.425Z"
   },
   {
    "duration": 0,
    "start_time": "2022-04-18T00:59:07.426Z"
   },
   {
    "duration": 1429,
    "start_time": "2022-04-18T00:59:26.892Z"
   },
   {
    "duration": 311,
    "start_time": "2022-04-18T00:59:28.324Z"
   },
   {
    "duration": 6,
    "start_time": "2022-04-18T00:59:28.637Z"
   },
   {
    "duration": 317,
    "start_time": "2022-04-18T00:59:28.645Z"
   },
   {
    "duration": 16,
    "start_time": "2022-04-18T00:59:28.964Z"
   },
   {
    "duration": 374,
    "start_time": "2022-04-18T00:59:28.982Z"
   },
   {
    "duration": 6,
    "start_time": "2022-04-18T00:59:29.358Z"
   },
   {
    "duration": 459,
    "start_time": "2022-04-18T00:59:29.366Z"
   },
   {
    "duration": 5,
    "start_time": "2022-04-18T00:59:29.827Z"
   },
   {
    "duration": 10,
    "start_time": "2022-04-18T00:59:29.923Z"
   },
   {
    "duration": 12,
    "start_time": "2022-04-18T00:59:29.935Z"
   },
   {
    "duration": 17,
    "start_time": "2022-04-18T00:59:29.948Z"
   },
   {
    "duration": 3983,
    "start_time": "2022-04-18T00:59:29.966Z"
   },
   {
    "duration": 338,
    "start_time": "2022-04-18T00:59:38.713Z"
   },
   {
    "duration": 438,
    "start_time": "2022-04-18T00:59:40.522Z"
   },
   {
    "duration": 366,
    "start_time": "2022-04-18T00:59:48.195Z"
   },
   {
    "duration": 1543,
    "start_time": "2022-04-18T00:59:53.377Z"
   },
   {
    "duration": 315,
    "start_time": "2022-04-18T00:59:54.923Z"
   },
   {
    "duration": 5,
    "start_time": "2022-04-18T00:59:55.240Z"
   },
   {
    "duration": 310,
    "start_time": "2022-04-18T00:59:55.248Z"
   },
   {
    "duration": 16,
    "start_time": "2022-04-18T00:59:55.560Z"
   },
   {
    "duration": 380,
    "start_time": "2022-04-18T00:59:55.577Z"
   },
   {
    "duration": 4,
    "start_time": "2022-04-18T00:59:55.959Z"
   },
   {
    "duration": 374,
    "start_time": "2022-04-18T00:59:55.965Z"
   },
   {
    "duration": 83,
    "start_time": "2022-04-18T00:59:56.342Z"
   },
   {
    "duration": 96,
    "start_time": "2022-04-18T00:59:56.432Z"
   },
   {
    "duration": 5,
    "start_time": "2022-04-18T00:59:56.530Z"
   },
   {
    "duration": 18,
    "start_time": "2022-04-18T00:59:56.537Z"
   },
   {
    "duration": 4082,
    "start_time": "2022-04-18T00:59:56.557Z"
   },
   {
    "duration": 342,
    "start_time": "2022-04-18T01:03:15.946Z"
   },
   {
    "duration": 1427,
    "start_time": "2022-04-18T01:03:23.848Z"
   },
   {
    "duration": 307,
    "start_time": "2022-04-18T01:03:25.277Z"
   },
   {
    "duration": 4,
    "start_time": "2022-04-18T01:03:25.586Z"
   },
   {
    "duration": 304,
    "start_time": "2022-04-18T01:03:25.592Z"
   },
   {
    "duration": 30,
    "start_time": "2022-04-18T01:03:25.899Z"
   },
   {
    "duration": 354,
    "start_time": "2022-04-18T01:03:25.931Z"
   },
   {
    "duration": 4,
    "start_time": "2022-04-18T01:03:26.287Z"
   },
   {
    "duration": 535,
    "start_time": "2022-04-18T01:03:26.293Z"
   },
   {
    "duration": 94,
    "start_time": "2022-04-18T01:03:26.830Z"
   },
   {
    "duration": 5,
    "start_time": "2022-04-18T01:03:26.926Z"
   },
   {
    "duration": 7,
    "start_time": "2022-04-18T01:03:26.933Z"
   },
   {
    "duration": 17,
    "start_time": "2022-04-18T01:03:26.942Z"
   },
   {
    "duration": 4143,
    "start_time": "2022-04-18T01:03:26.960Z"
   },
   {
    "duration": 3,
    "start_time": "2022-04-18T01:10:34.252Z"
   },
   {
    "duration": 3,
    "start_time": "2022-04-18T01:10:49.971Z"
   },
   {
    "duration": 1495,
    "start_time": "2022-04-18T01:14:08.613Z"
   },
   {
    "duration": 316,
    "start_time": "2022-04-18T01:14:10.110Z"
   },
   {
    "duration": 4,
    "start_time": "2022-04-18T01:14:10.428Z"
   },
   {
    "duration": 308,
    "start_time": "2022-04-18T01:14:10.434Z"
   },
   {
    "duration": 15,
    "start_time": "2022-04-18T01:14:10.744Z"
   },
   {
    "duration": 365,
    "start_time": "2022-04-18T01:14:10.761Z"
   },
   {
    "duration": 5,
    "start_time": "2022-04-18T01:14:11.128Z"
   },
   {
    "duration": 271,
    "start_time": "2022-04-18T01:14:11.134Z"
   },
   {
    "duration": 0,
    "start_time": "2022-04-18T01:14:11.407Z"
   },
   {
    "duration": 0,
    "start_time": "2022-04-18T01:14:11.423Z"
   },
   {
    "duration": 0,
    "start_time": "2022-04-18T01:14:11.425Z"
   },
   {
    "duration": 0,
    "start_time": "2022-04-18T01:14:11.426Z"
   },
   {
    "duration": 0,
    "start_time": "2022-04-18T01:14:11.427Z"
   },
   {
    "duration": 0,
    "start_time": "2022-04-18T01:14:11.428Z"
   },
   {
    "duration": 1437,
    "start_time": "2022-04-18T01:14:49.932Z"
   },
   {
    "duration": 327,
    "start_time": "2022-04-18T01:14:51.371Z"
   },
   {
    "duration": 5,
    "start_time": "2022-04-18T01:14:51.699Z"
   },
   {
    "duration": 328,
    "start_time": "2022-04-18T01:14:51.705Z"
   },
   {
    "duration": 16,
    "start_time": "2022-04-18T01:14:52.035Z"
   },
   {
    "duration": 371,
    "start_time": "2022-04-18T01:14:52.052Z"
   },
   {
    "duration": 5,
    "start_time": "2022-04-18T01:14:52.425Z"
   },
   {
    "duration": 265,
    "start_time": "2022-04-18T01:14:52.431Z"
   },
   {
    "duration": 0,
    "start_time": "2022-04-18T01:14:52.698Z"
   },
   {
    "duration": 0,
    "start_time": "2022-04-18T01:14:52.699Z"
   },
   {
    "duration": 0,
    "start_time": "2022-04-18T01:14:52.700Z"
   },
   {
    "duration": 0,
    "start_time": "2022-04-18T01:14:52.701Z"
   },
   {
    "duration": 0,
    "start_time": "2022-04-18T01:14:52.703Z"
   },
   {
    "duration": 0,
    "start_time": "2022-04-18T01:14:52.703Z"
   },
   {
    "duration": 113,
    "start_time": "2022-04-18T01:15:38.912Z"
   },
   {
    "duration": 1407,
    "start_time": "2022-04-18T01:16:29.124Z"
   },
   {
    "duration": 329,
    "start_time": "2022-04-18T01:16:30.533Z"
   },
   {
    "duration": 5,
    "start_time": "2022-04-18T01:16:30.864Z"
   },
   {
    "duration": 319,
    "start_time": "2022-04-18T01:16:30.870Z"
   },
   {
    "duration": 33,
    "start_time": "2022-04-18T01:16:31.192Z"
   },
   {
    "duration": 380,
    "start_time": "2022-04-18T01:16:31.226Z"
   },
   {
    "duration": 5,
    "start_time": "2022-04-18T01:16:31.608Z"
   },
   {
    "duration": 422,
    "start_time": "2022-04-18T01:16:31.615Z"
   },
   {
    "duration": 4,
    "start_time": "2022-04-18T01:16:32.040Z"
   },
   {
    "duration": 11,
    "start_time": "2022-04-18T01:16:32.123Z"
   },
   {
    "duration": 97,
    "start_time": "2022-04-18T01:16:32.136Z"
   },
   {
    "duration": 104,
    "start_time": "2022-04-18T01:16:32.236Z"
   },
   {
    "duration": 0,
    "start_time": "2022-04-18T01:16:32.342Z"
   },
   {
    "duration": 0,
    "start_time": "2022-04-18T01:16:32.344Z"
   },
   {
    "duration": 1389,
    "start_time": "2022-04-18T01:19:59.965Z"
   },
   {
    "duration": 320,
    "start_time": "2022-04-18T01:20:01.356Z"
   },
   {
    "duration": 5,
    "start_time": "2022-04-18T01:20:01.678Z"
   },
   {
    "duration": 321,
    "start_time": "2022-04-18T01:20:01.684Z"
   },
   {
    "duration": 29,
    "start_time": "2022-04-18T01:20:02.007Z"
   },
   {
    "duration": 374,
    "start_time": "2022-04-18T01:20:02.038Z"
   },
   {
    "duration": 11,
    "start_time": "2022-04-18T01:20:02.415Z"
   },
   {
    "duration": 401,
    "start_time": "2022-04-18T01:20:02.429Z"
   },
   {
    "duration": 13,
    "start_time": "2022-04-18T01:20:02.831Z"
   },
   {
    "duration": 11,
    "start_time": "2022-04-18T01:20:02.925Z"
   },
   {
    "duration": 7,
    "start_time": "2022-04-18T01:20:03.023Z"
   },
   {
    "duration": 19,
    "start_time": "2022-04-18T01:20:03.032Z"
   },
   {
    "duration": 4012,
    "start_time": "2022-04-18T01:20:03.053Z"
   },
   {
    "duration": 1435,
    "start_time": "2022-04-18T01:24:59.229Z"
   },
   {
    "duration": 317,
    "start_time": "2022-04-18T01:25:00.666Z"
   },
   {
    "duration": 5,
    "start_time": "2022-04-18T01:25:00.985Z"
   },
   {
    "duration": 318,
    "start_time": "2022-04-18T01:25:00.992Z"
   },
   {
    "duration": 25,
    "start_time": "2022-04-18T01:25:01.312Z"
   },
   {
    "duration": 377,
    "start_time": "2022-04-18T01:25:01.339Z"
   },
   {
    "duration": 6,
    "start_time": "2022-04-18T01:25:01.723Z"
   },
   {
    "duration": 400,
    "start_time": "2022-04-18T01:25:01.731Z"
   },
   {
    "duration": 91,
    "start_time": "2022-04-18T01:25:02.133Z"
   },
   {
    "duration": 105,
    "start_time": "2022-04-18T01:25:02.227Z"
   },
   {
    "duration": 9,
    "start_time": "2022-04-18T01:25:02.334Z"
   },
   {
    "duration": 21,
    "start_time": "2022-04-18T01:25:02.345Z"
   },
   {
    "duration": 6505,
    "start_time": "2022-04-18T01:25:02.369Z"
   },
   {
    "duration": 16,
    "start_time": "2022-04-18T01:37:19.100Z"
   },
   {
    "duration": 1509,
    "start_time": "2022-04-18T01:37:25.328Z"
   },
   {
    "duration": 308,
    "start_time": "2022-04-18T01:37:26.839Z"
   },
   {
    "duration": 5,
    "start_time": "2022-04-18T01:37:27.149Z"
   },
   {
    "duration": 301,
    "start_time": "2022-04-18T01:37:27.156Z"
   },
   {
    "duration": 15,
    "start_time": "2022-04-18T01:37:27.458Z"
   },
   {
    "duration": 376,
    "start_time": "2022-04-18T01:37:27.474Z"
   },
   {
    "duration": 6,
    "start_time": "2022-04-18T01:37:27.852Z"
   },
   {
    "duration": 466,
    "start_time": "2022-04-18T01:37:27.859Z"
   },
   {
    "duration": 3,
    "start_time": "2022-04-18T01:37:28.327Z"
   },
   {
    "duration": 98,
    "start_time": "2022-04-18T01:37:28.333Z"
   },
   {
    "duration": 9,
    "start_time": "2022-04-18T01:37:28.432Z"
   },
   {
    "duration": 20,
    "start_time": "2022-04-18T01:37:28.443Z"
   },
   {
    "duration": 4160,
    "start_time": "2022-04-18T01:37:28.464Z"
   },
   {
    "duration": 1603,
    "start_time": "2022-04-18T09:26:10.864Z"
   },
   {
    "duration": 851,
    "start_time": "2022-04-18T09:26:12.469Z"
   },
   {
    "duration": 5,
    "start_time": "2022-04-18T09:26:13.322Z"
   },
   {
    "duration": 318,
    "start_time": "2022-04-18T09:26:13.329Z"
   },
   {
    "duration": 14,
    "start_time": "2022-04-18T09:26:13.650Z"
   },
   {
    "duration": 370,
    "start_time": "2022-04-18T09:26:13.665Z"
   },
   {
    "duration": 5,
    "start_time": "2022-04-18T09:26:14.038Z"
   },
   {
    "duration": 389,
    "start_time": "2022-04-18T09:26:14.044Z"
   },
   {
    "duration": 88,
    "start_time": "2022-04-18T09:26:14.437Z"
   },
   {
    "duration": 97,
    "start_time": "2022-04-18T09:26:14.528Z"
   },
   {
    "duration": 6,
    "start_time": "2022-04-18T09:26:14.627Z"
   },
   {
    "duration": 19,
    "start_time": "2022-04-18T09:26:14.634Z"
   },
   {
    "duration": 4628,
    "start_time": "2022-04-18T09:26:14.654Z"
   },
   {
    "duration": 1446,
    "start_time": "2022-04-18T09:27:00.118Z"
   },
   {
    "duration": 307,
    "start_time": "2022-04-18T09:27:01.566Z"
   },
   {
    "duration": 4,
    "start_time": "2022-04-18T09:27:01.875Z"
   },
   {
    "duration": 303,
    "start_time": "2022-04-18T09:27:01.880Z"
   },
   {
    "duration": 14,
    "start_time": "2022-04-18T09:27:02.185Z"
   },
   {
    "duration": 390,
    "start_time": "2022-04-18T09:27:02.200Z"
   },
   {
    "duration": 5,
    "start_time": "2022-04-18T09:27:02.592Z"
   },
   {
    "duration": 435,
    "start_time": "2022-04-18T09:27:02.598Z"
   },
   {
    "duration": 3,
    "start_time": "2022-04-18T09:27:03.035Z"
   },
   {
    "duration": 100,
    "start_time": "2022-04-18T09:27:03.125Z"
   },
   {
    "duration": 13,
    "start_time": "2022-04-18T09:27:03.227Z"
   },
   {
    "duration": 18,
    "start_time": "2022-04-18T09:27:03.242Z"
   },
   {
    "duration": 1478,
    "start_time": "2022-04-18T09:27:03.262Z"
   },
   {
    "duration": 1446,
    "start_time": "2022-04-18T09:27:22.605Z"
   },
   {
    "duration": 316,
    "start_time": "2022-04-18T09:27:24.053Z"
   },
   {
    "duration": 4,
    "start_time": "2022-04-18T09:27:24.371Z"
   },
   {
    "duration": 305,
    "start_time": "2022-04-18T09:27:24.377Z"
   },
   {
    "duration": 14,
    "start_time": "2022-04-18T09:27:24.683Z"
   },
   {
    "duration": 515,
    "start_time": "2022-04-18T09:27:24.699Z"
   },
   {
    "duration": 5,
    "start_time": "2022-04-18T09:27:25.224Z"
   },
   {
    "duration": 400,
    "start_time": "2022-04-18T09:27:25.231Z"
   },
   {
    "duration": 3,
    "start_time": "2022-04-18T09:27:25.633Z"
   },
   {
    "duration": 93,
    "start_time": "2022-04-18T09:27:25.638Z"
   },
   {
    "duration": 97,
    "start_time": "2022-04-18T09:27:25.733Z"
   },
   {
    "duration": 19,
    "start_time": "2022-04-18T09:27:25.832Z"
   },
   {
    "duration": 3924,
    "start_time": "2022-04-18T09:27:25.852Z"
   },
   {
    "duration": 6,
    "start_time": "2022-04-18T09:35:07.588Z"
   },
   {
    "duration": 1473,
    "start_time": "2022-04-18T09:36:46.957Z"
   },
   {
    "duration": 318,
    "start_time": "2022-04-18T09:36:48.432Z"
   },
   {
    "duration": 5,
    "start_time": "2022-04-18T09:36:48.752Z"
   },
   {
    "duration": 309,
    "start_time": "2022-04-18T09:36:48.758Z"
   },
   {
    "duration": 13,
    "start_time": "2022-04-18T09:36:49.069Z"
   },
   {
    "duration": 401,
    "start_time": "2022-04-18T09:36:49.084Z"
   },
   {
    "duration": 6,
    "start_time": "2022-04-18T09:36:49.487Z"
   },
   {
    "duration": 440,
    "start_time": "2022-04-18T09:36:49.495Z"
   },
   {
    "duration": 85,
    "start_time": "2022-04-18T09:36:49.938Z"
   },
   {
    "duration": 100,
    "start_time": "2022-04-18T09:36:50.026Z"
   },
   {
    "duration": 13,
    "start_time": "2022-04-18T09:36:50.128Z"
   },
   {
    "duration": 21,
    "start_time": "2022-04-18T09:36:50.142Z"
   },
   {
    "duration": 4420,
    "start_time": "2022-04-18T09:36:50.164Z"
   },
   {
    "duration": 1428,
    "start_time": "2022-04-18T09:40:39.737Z"
   },
   {
    "duration": 294,
    "start_time": "2022-04-18T09:40:41.167Z"
   },
   {
    "duration": 5,
    "start_time": "2022-04-18T09:40:41.462Z"
   },
   {
    "duration": 296,
    "start_time": "2022-04-18T09:40:41.469Z"
   },
   {
    "duration": 14,
    "start_time": "2022-04-18T09:40:41.767Z"
   },
   {
    "duration": 381,
    "start_time": "2022-04-18T09:40:41.783Z"
   },
   {
    "duration": 6,
    "start_time": "2022-04-18T09:40:42.166Z"
   },
   {
    "duration": 457,
    "start_time": "2022-04-18T09:40:42.173Z"
   },
   {
    "duration": 92,
    "start_time": "2022-04-18T09:40:42.631Z"
   },
   {
    "duration": 6,
    "start_time": "2022-04-18T09:40:42.726Z"
   },
   {
    "duration": 6,
    "start_time": "2022-04-18T09:40:42.824Z"
   },
   {
    "duration": 18,
    "start_time": "2022-04-18T09:40:42.832Z"
   },
   {
    "duration": 3982,
    "start_time": "2022-04-18T09:40:42.852Z"
   }
  ],
  "kernelspec": {
   "display_name": "Python 3 (ipykernel)",
   "language": "python",
   "name": "python3"
  },
  "language_info": {
   "codemirror_mode": {
    "name": "ipython",
    "version": 3
   },
   "file_extension": ".py",
   "mimetype": "text/x-python",
   "name": "python",
   "nbconvert_exporter": "python",
   "pygments_lexer": "ipython3",
   "version": "3.9.5"
  },
  "toc": {
   "base_numbering": 1,
   "nav_menu": {},
   "number_sections": true,
   "sideBar": true,
   "skip_h1_title": true,
   "title_cell": "Table of Contents",
   "title_sidebar": "Contents",
   "toc_cell": false,
   "toc_position": {},
   "toc_section_display": true,
   "toc_window_display": false
  }
 },
 "nbformat": 4,
 "nbformat_minor": 2
}